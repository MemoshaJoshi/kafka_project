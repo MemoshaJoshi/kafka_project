{
 "cells": [
  {
   "cell_type": "code",
   "execution_count": 1,
   "metadata": {},
   "outputs": [],
   "source": [
    "from pyspark.sql import SparkSession, functions as F, Window as W\n",
    "from pyspark.sql.functions import col\n",
    "from pyspark.sql.types import StructType, StructField,ArrayType,LongType,StringType,DoubleType,IntegerType\n",
    "from pyspark.sql.functions import split, explode,col\n",
    "from pyspark.sql.functions import lit\n",
    "\n",
    "\n",
    "spark = SparkSession.builder.appName('earthquake_api').getOrCreate()"
   ]
  },
  {
   "cell_type": "code",
   "execution_count": 2,
   "metadata": {},
   "outputs": [],
   "source": [
    "earthquake_df = spark.read\\\n",
    "    .format('json')\\\n",
    "    .option('multiLine', 'true')\\\n",
    "    .load('data.json')"
   ]
  },
  {
   "cell_type": "code",
   "execution_count": 3,
   "metadata": {},
   "outputs": [
    {
     "name": "stdout",
     "output_type": "stream",
     "text": [
      "root\n",
      " |-- count: long (nullable = true)\n",
      " |-- data: array (nullable = true)\n",
      " |    |-- element: struct (containsNull = true)\n",
      " |    |    |-- alert: string (nullable = true)\n",
      " |    |    |-- cdi: string (nullable = true)\n",
      " |    |    |-- city: string (nullable = true)\n",
      " |    |    |-- code: string (nullable = true)\n",
      " |    |    |-- continent: string (nullable = true)\n",
      " |    |    |-- country: string (nullable = true)\n",
      " |    |    |-- date: string (nullable = true)\n",
      " |    |    |-- depth: string (nullable = true)\n",
      " |    |    |-- detailUrl: string (nullable = true)\n",
      " |    |    |-- dmin: string (nullable = true)\n",
      " |    |    |-- felt: string (nullable = true)\n",
      " |    |    |-- gap: string (nullable = true)\n",
      " |    |    |-- geometryType: string (nullable = true)\n",
      " |    |    |-- id: string (nullable = true)\n",
      " |    |    |-- ids: string (nullable = true)\n",
      " |    |    |-- latitude: string (nullable = true)\n",
      " |    |    |-- locality: string (nullable = true)\n",
      " |    |    |-- location: string (nullable = true)\n",
      " |    |    |-- locationDetails: array (nullable = true)\n",
      " |    |    |    |-- element: struct (containsNull = true)\n",
      " |    |    |    |    |-- adminLevel: string (nullable = true)\n",
      " |    |    |    |    |-- description: string (nullable = true)\n",
      " |    |    |    |    |-- geonameId: string (nullable = true)\n",
      " |    |    |    |    |-- id: string (nullable = true)\n",
      " |    |    |    |    |-- name: string (nullable = true)\n",
      " |    |    |    |    |-- wikidataId: string (nullable = true)\n",
      " |    |    |-- longitude: string (nullable = true)\n",
      " |    |    |-- magType: string (nullable = true)\n",
      " |    |    |-- magnitude: string (nullable = true)\n",
      " |    |    |-- mmi: string (nullable = true)\n",
      " |    |    |-- net: string (nullable = true)\n",
      " |    |    |-- nst: string (nullable = true)\n",
      " |    |    |-- place: string (nullable = true)\n",
      " |    |    |-- postcode: string (nullable = true)\n",
      " |    |    |-- rms: string (nullable = true)\n",
      " |    |    |-- sig: string (nullable = true)\n",
      " |    |    |-- sources: string (nullable = true)\n",
      " |    |    |-- status: string (nullable = true)\n",
      " |    |    |-- subnational: string (nullable = true)\n",
      " |    |    |-- time: string (nullable = true)\n",
      " |    |    |-- timezone: string (nullable = true)\n",
      " |    |    |-- title: string (nullable = true)\n",
      " |    |    |-- tsunami: string (nullable = true)\n",
      " |    |    |-- type: string (nullable = true)\n",
      " |    |    |-- types: string (nullable = true)\n",
      " |    |    |-- updated: string (nullable = true)\n",
      " |    |    |-- url: string (nullable = true)\n",
      " |    |    |-- what3words: string (nullable = true)\n",
      " |-- errorCode: string (nullable = true)\n",
      " |-- errors: array (nullable = true)\n",
      " |    |-- element: string (containsNull = true)\n",
      " |-- friendlyError: string (nullable = true)\n",
      " |-- httpStatus: long (nullable = true)\n",
      " |-- noun: string (nullable = true)\n",
      " |-- result: string (nullable = true)\n",
      " |-- verb: string (nullable = true)\n",
      "\n"
     ]
    }
   ],
   "source": [
    "earthquake_df.printSchema()"
   ]
  },
  {
   "cell_type": "code",
   "execution_count": 4,
   "metadata": {},
   "outputs": [
    {
     "data": {
      "text/plain": [
       "1"
      ]
     },
     "execution_count": 4,
     "metadata": {},
     "output_type": "execute_result"
    }
   ],
   "source": [
    "# number of rows\n",
    "earthquake_df.count()"
   ]
  },
  {
   "cell_type": "code",
   "execution_count": 5,
   "metadata": {},
   "outputs": [
    {
     "name": "stdout",
     "output_type": "stream",
     "text": [
      "+-----+--------------------+---------+------+-------------+----------+-----------+-------+----+\n",
      "|count|                data|errorCode|errors|friendlyError|httpStatus|       noun| result|verb|\n",
      "+-----+--------------------+---------+------+-------------+----------+-----------+-------+----+\n",
      "|  100|[{, 5, , 2022wnac...|     none|    []|             |       200|earthquakes|success| GET|\n",
      "+-----+--------------------+---------+------+-------------+----------+-----------+-------+----+\n",
      "\n"
     ]
    }
   ],
   "source": [
    "earthquake_df.show()"
   ]
  },
  {
   "cell_type": "code",
   "execution_count": 6,
   "metadata": {},
   "outputs": [],
   "source": [
    "earthquake_df = earthquake_df.drop(\"count\").drop(\"errorCode\").drop(\"errors\").drop(\"friendlyError\").drop(\"httpStatus\").drop(\"noun\").drop( \"result\").drop(\"verb\")\n"
   ]
  },
  {
   "cell_type": "code",
   "execution_count": 7,
   "metadata": {},
   "outputs": [
    {
     "name": "stdout",
     "output_type": "stream",
     "text": [
      "root\n",
      " |-- data: array (nullable = true)\n",
      " |    |-- element: struct (containsNull = true)\n",
      " |    |    |-- alert: string (nullable = true)\n",
      " |    |    |-- cdi: string (nullable = true)\n",
      " |    |    |-- city: string (nullable = true)\n",
      " |    |    |-- code: string (nullable = true)\n",
      " |    |    |-- continent: string (nullable = true)\n",
      " |    |    |-- country: string (nullable = true)\n",
      " |    |    |-- date: string (nullable = true)\n",
      " |    |    |-- depth: string (nullable = true)\n",
      " |    |    |-- detailUrl: string (nullable = true)\n",
      " |    |    |-- dmin: string (nullable = true)\n",
      " |    |    |-- felt: string (nullable = true)\n",
      " |    |    |-- gap: string (nullable = true)\n",
      " |    |    |-- geometryType: string (nullable = true)\n",
      " |    |    |-- id: string (nullable = true)\n",
      " |    |    |-- ids: string (nullable = true)\n",
      " |    |    |-- latitude: string (nullable = true)\n",
      " |    |    |-- locality: string (nullable = true)\n",
      " |    |    |-- location: string (nullable = true)\n",
      " |    |    |-- locationDetails: array (nullable = true)\n",
      " |    |    |    |-- element: struct (containsNull = true)\n",
      " |    |    |    |    |-- adminLevel: string (nullable = true)\n",
      " |    |    |    |    |-- description: string (nullable = true)\n",
      " |    |    |    |    |-- geonameId: string (nullable = true)\n",
      " |    |    |    |    |-- id: string (nullable = true)\n",
      " |    |    |    |    |-- name: string (nullable = true)\n",
      " |    |    |    |    |-- wikidataId: string (nullable = true)\n",
      " |    |    |-- longitude: string (nullable = true)\n",
      " |    |    |-- magType: string (nullable = true)\n",
      " |    |    |-- magnitude: string (nullable = true)\n",
      " |    |    |-- mmi: string (nullable = true)\n",
      " |    |    |-- net: string (nullable = true)\n",
      " |    |    |-- nst: string (nullable = true)\n",
      " |    |    |-- place: string (nullable = true)\n",
      " |    |    |-- postcode: string (nullable = true)\n",
      " |    |    |-- rms: string (nullable = true)\n",
      " |    |    |-- sig: string (nullable = true)\n",
      " |    |    |-- sources: string (nullable = true)\n",
      " |    |    |-- status: string (nullable = true)\n",
      " |    |    |-- subnational: string (nullable = true)\n",
      " |    |    |-- time: string (nullable = true)\n",
      " |    |    |-- timezone: string (nullable = true)\n",
      " |    |    |-- title: string (nullable = true)\n",
      " |    |    |-- tsunami: string (nullable = true)\n",
      " |    |    |-- type: string (nullable = true)\n",
      " |    |    |-- types: string (nullable = true)\n",
      " |    |    |-- updated: string (nullable = true)\n",
      " |    |    |-- url: string (nullable = true)\n",
      " |    |    |-- what3words: string (nullable = true)\n",
      "\n"
     ]
    }
   ],
   "source": [
    "earthquake_df.printSchema()"
   ]
  },
  {
   "cell_type": "code",
   "execution_count": 8,
   "metadata": {},
   "outputs": [],
   "source": [
    "earthquake_df = earthquake_df.withColumn('data', F.explode('data'))"
   ]
  },
  {
   "cell_type": "code",
   "execution_count": 9,
   "metadata": {},
   "outputs": [
    {
     "name": "stdout",
     "output_type": "stream",
     "text": [
      "root\n",
      " |-- data: struct (nullable = true)\n",
      " |    |-- alert: string (nullable = true)\n",
      " |    |-- cdi: string (nullable = true)\n",
      " |    |-- city: string (nullable = true)\n",
      " |    |-- code: string (nullable = true)\n",
      " |    |-- continent: string (nullable = true)\n",
      " |    |-- country: string (nullable = true)\n",
      " |    |-- date: string (nullable = true)\n",
      " |    |-- depth: string (nullable = true)\n",
      " |    |-- detailUrl: string (nullable = true)\n",
      " |    |-- dmin: string (nullable = true)\n",
      " |    |-- felt: string (nullable = true)\n",
      " |    |-- gap: string (nullable = true)\n",
      " |    |-- geometryType: string (nullable = true)\n",
      " |    |-- id: string (nullable = true)\n",
      " |    |-- ids: string (nullable = true)\n",
      " |    |-- latitude: string (nullable = true)\n",
      " |    |-- locality: string (nullable = true)\n",
      " |    |-- location: string (nullable = true)\n",
      " |    |-- locationDetails: array (nullable = true)\n",
      " |    |    |-- element: struct (containsNull = true)\n",
      " |    |    |    |-- adminLevel: string (nullable = true)\n",
      " |    |    |    |-- description: string (nullable = true)\n",
      " |    |    |    |-- geonameId: string (nullable = true)\n",
      " |    |    |    |-- id: string (nullable = true)\n",
      " |    |    |    |-- name: string (nullable = true)\n",
      " |    |    |    |-- wikidataId: string (nullable = true)\n",
      " |    |-- longitude: string (nullable = true)\n",
      " |    |-- magType: string (nullable = true)\n",
      " |    |-- magnitude: string (nullable = true)\n",
      " |    |-- mmi: string (nullable = true)\n",
      " |    |-- net: string (nullable = true)\n",
      " |    |-- nst: string (nullable = true)\n",
      " |    |-- place: string (nullable = true)\n",
      " |    |-- postcode: string (nullable = true)\n",
      " |    |-- rms: string (nullable = true)\n",
      " |    |-- sig: string (nullable = true)\n",
      " |    |-- sources: string (nullable = true)\n",
      " |    |-- status: string (nullable = true)\n",
      " |    |-- subnational: string (nullable = true)\n",
      " |    |-- time: string (nullable = true)\n",
      " |    |-- timezone: string (nullable = true)\n",
      " |    |-- title: string (nullable = true)\n",
      " |    |-- tsunami: string (nullable = true)\n",
      " |    |-- type: string (nullable = true)\n",
      " |    |-- types: string (nullable = true)\n",
      " |    |-- updated: string (nullable = true)\n",
      " |    |-- url: string (nullable = true)\n",
      " |    |-- what3words: string (nullable = true)\n",
      "\n"
     ]
    }
   ],
   "source": [
    "earthquake_df.printSchema()"
   ]
  },
  {
   "cell_type": "code",
   "execution_count": 10,
   "metadata": {},
   "outputs": [],
   "source": [
    "earthquake_df = earthquake_df\\\n",
    "            .withColumn('id', F.col('data').getItem('id'))\\\n",
    "            .withColumn('magnitude', F.col('data').getItem('magnitude').cast('int'))\\\n",
    "            .withColumn('type', F.col('data').getItem('type'))\\\n",
    "            .withColumn('title', F.col('data').getItem('title'))\\\n",
    "    \t    .withColumn('date', F.col('data').getItem('date'))\\\n",
    "    \t    .withColumn('time', F.col('data').getItem('time'))\\\n",
    "    \t    .withColumn('updated', F.col('data').getItem('updated').cast('int'))\\\n",
    "    \t    .withColumn('status', F.col('data').getItem('status'))\\\n",
    "    \t    .withColumn('latitude', F.col('data').getItem('latitude').cast('int'))\\\n",
    "    \t    .withColumn('longitude', F.col('data').getItem('longitude').cast('int'))\\\n",
    "    \t    .withColumn('place', F.col('data').getItem('place'))\\\n",
    "    \t    .withColumn('location', F.col('data').getItem('location'))\\\n",
    "    \t    .withColumn('continent', F.col('data').getItem('continent'))\\\n",
    "    \t    .withColumn('country', F.col('data').getItem('country'))\n",
    "           \n",
    "\n"
   ]
  },
  {
   "cell_type": "code",
   "execution_count": 11,
   "metadata": {},
   "outputs": [],
   "source": [
    "earthquake_df = earthquake_df\\\n",
    "                .select('id','magnitude', 'type', 'title', 'date', 'time', 'updated', 'status', 'latitude','longitude', 'place','location','continent','country')\n"
   ]
  },
  {
   "cell_type": "code",
   "execution_count": 14,
   "metadata": {},
   "outputs": [],
   "source": [
    "# earthquake_df.select(earthquake_df['counts']).show()"
   ]
  },
  {
   "cell_type": "code",
   "execution_count": 15,
   "metadata": {},
   "outputs": [
    {
     "name": "stdout",
     "output_type": "stream",
     "text": [
      "root\n",
      " |-- id: string (nullable = true)\n",
      " |-- magnitude: integer (nullable = true)\n",
      " |-- type: string (nullable = true)\n",
      " |-- title: string (nullable = true)\n",
      " |-- date: string (nullable = true)\n",
      " |-- time: string (nullable = true)\n",
      " |-- updated: integer (nullable = true)\n",
      " |-- status: string (nullable = true)\n",
      " |-- latitude: integer (nullable = true)\n",
      " |-- longitude: integer (nullable = true)\n",
      " |-- place: string (nullable = true)\n",
      " |-- location: string (nullable = true)\n",
      " |-- continent: string (nullable = true)\n",
      " |-- country: string (nullable = true)\n",
      "\n"
     ]
    }
   ],
   "source": [
    "earthquake_df.printSchema()"
   ]
  },
  {
   "cell_type": "code",
   "execution_count": 16,
   "metadata": {},
   "outputs": [
    {
     "name": "stdout",
     "output_type": "stream",
     "text": [
      "+----------+---------+----------+--------------------+-------------------+-------------+-------+--------+--------+---------+--------------------+----------------+-------------+--------------------+\n",
      "|        id|magnitude|      type|               title|               date|         time|updated|  status|latitude|longitude|               place|        location|    continent|             country|\n",
      "+----------+---------+----------+--------------------+-------------------+-------------+-------+--------+--------+---------+--------------------+----------------+-------------+--------------------+\n",
      "|tx2022wnac|        3|earthquake|M 3.8 - 37 km WSW...|2022-11-17T04:38:31|1668659911981|   null|reviewed|      31|     -103|37 km WSW of Ment...|  Mentone, Texas|North America|United States of ...|\n",
      "|tx2022wmtd|        3|earthquake|M 3.5 - 37 km WSW...|2022-11-17T01:04:09|1668647049070|   null|reviewed|      31|     -103|37 km WSW of Ment...|  Mentone, Texas|North America|United States of ...|\n",
      "|us7000iq9j|        3|earthquake|M 3.6 - 37 km WSW...|2022-11-17T01:04:09|1668647049069|   null|reviewed|      31|     -103|37 km WSW of Ment...|  Mentone, Texas|North America|United States of ...|\n",
      "|tx2022wmog|        4|earthquake|M 4.0 - 39 km WSW...|2022-11-16T22:39:13|1668638353563|   null|reviewed|      31|     -104|39 km WSW of Ment...|  Mentone, Texas|North America|United States of ...|\n",
      "|us7000iq85|        3|earthquake|M 3.8 - 38 km NNW...|2022-11-16T22:39:13|1668638353246|   null|reviewed|      31|     -103|38 km NNW of Toya...|    Toyah, Texas|North America|United States of ...|\n",
      "|tx2022wmmd|        5|earthquake|M 5.4 - 38 km WSW...|2022-11-16T21:32:44|1668634364481|   null|reviewed|      31|     -104|38 km WSW of Ment...|  Mentone, Texas|North America|United States of ...|\n",
      "|us7000iq7l|        5|earthquake|M 5.4 - 38 km WSW...|2022-11-16T21:32:44|1668634364391|   null|reviewed|      31|     -104|38 km WSW of Ment...|  Mentone, Texas|North America|United States of ...|\n",
      "|us7000iq4e|        3|earthquake|M 3.7 - 4 km ENE ...|2022-11-16T13:47:44|1668606464447|   null|reviewed|      47|     -114|4 km ENE of Raval...|Ravalli, Montana|North America|United States of ...|\n",
      "|uu60525357|        3|earthquake|M 3.6 - 17 km NNW...|2022-11-16T09:58:54|1668592734140|   null|reviewed|      42|     -111|17 km NNW of Tayl...| Taylor, Wyoming|North America|United States of ...|\n",
      "|uu60524772|        3|earthquake|M 3.6 - 7 km SW o...|2022-11-12T13:45:07|1668260707260|   null|reviewed|      41|     -112|7 km SW of Corinn...|   Corinne, Utah|North America|United States of ...|\n",
      "+----------+---------+----------+--------------------+-------------------+-------------+-------+--------+--------+---------+--------------------+----------------+-------------+--------------------+\n",
      "only showing top 10 rows\n",
      "\n"
     ]
    }
   ],
   "source": [
    "earthquake_df.show(10)"
   ]
  },
  {
   "cell_type": "code",
   "execution_count": 16,
   "metadata": {},
   "outputs": [
    {
     "data": {
      "text/plain": [
       "100"
      ]
     },
     "execution_count": 16,
     "metadata": {},
     "output_type": "execute_result"
    }
   ],
   "source": [
    "# number of rows\n",
    "earthquake_df.count()"
   ]
  },
  {
   "cell_type": "code",
   "execution_count": null,
   "metadata": {},
   "outputs": [],
   "source": [
    "# Transformation \n",
    "# 1. Find the average of magnitude of earthquake."
   ]
  },
  {
   "cell_type": "code",
   "execution_count": 17,
   "metadata": {},
   "outputs": [
    {
     "name": "stdout",
     "output_type": "stream",
     "text": [
      "+--------------+\n",
      "|avg(magnitude)|\n",
      "+--------------+\n",
      "|          3.36|\n",
      "+--------------+\n",
      "\n"
     ]
    }
   ],
   "source": [
    "average_magnitude_df = earthquake_df.agg({'magnitude':'avg'})\n",
    "average_magnitude_df.select(average_magnitude_df['avg(magnitude)'])\n",
    "average_magnitude_df.show()"
   ]
  },
  {
   "cell_type": "code",
   "execution_count": 1,
   "metadata": {},
   "outputs": [],
   "source": [
    "# average_magnitude_df.write.format('jdbc').options(url='jdbc:postgresql://localhost:5432/kafka', driver= 'org.postgresql.Driver',\n",
    "#                                                     dbtable='earthquake_table_1', user='memosha',password='1234').mode('overwrite').save()"
   ]
  },
  {
   "cell_type": "code",
   "execution_count": null,
   "metadata": {},
   "outputs": [],
   "source": [
    "# 2. Highest magnitude for each country in the month of November in 2022."
   ]
  },
  {
   "cell_type": "code",
   "execution_count": 17,
   "metadata": {},
   "outputs": [
    {
     "name": "stdout",
     "output_type": "stream",
     "text": [
      "+----+-----+--------------------+-----------------+\n",
      "|year|month|            location|highest_magnitude|\n",
      "+----+-----+--------------------+-----------------+\n",
      "|2022|   11|Bahía de Kino, Me...|                6|\n",
      "|2022|   11|Colorado City, Ar...|                3|\n",
      "|2022|   11|       Corinne, Utah|                3|\n",
      "|2022|   11|     Dubois, Wyoming|                3|\n",
      "|2022|   11|  Lake Pillsbury, CA|                3|\n",
      "|2022|   11| Maneadero, B.C., MX|                4|\n",
      "|2022|   11|      Mentone, Texas|                5|\n",
      "|2022|   11|    Ravalli, Montana|                3|\n",
      "|2022|   11|      Stanley, Idaho|                3|\n",
      "|2022|   11|     Taylor, Wyoming|                3|\n",
      "|2022|   11|        Toyah, Texas|                3|\n",
      "|2022|   11|Whites City, New ...|                3|\n",
      "+----+-----+--------------------+-----------------+\n",
      "\n"
     ]
    }
   ],
   "source": [
    "highest_magnitude_november_df = earthquake_df\\\n",
    "                    .groupBy(F.year('date').alias('year'), F.month('date').alias('month'), 'location')\\\n",
    "                    .agg(F.max('magnitude').alias('highest_magnitude'))\\\n",
    "                    .filter('month == 11')\\\n",
    "                    .filter('year == 2022')\\\n",
    "                    .orderBy('location', 'year')\n",
    "\n",
    "highest_magnitude_november_df.show()"
   ]
  },
  {
   "cell_type": "code",
   "execution_count": 18,
   "metadata": {},
   "outputs": [],
   "source": [
    "# highest_magnitude_november_df.write.format('jdbc').options(url='jdbc:postgresql://localhost:5432/kafka', driver= 'org.postgresql.Driver',\n",
    "# dbtable='earthquake_table_1', user='memosha',password='1234').mode('overwrite').save()"
   ]
  },
  {
   "cell_type": "code",
   "execution_count": null,
   "metadata": {},
   "outputs": [],
   "source": [
    "# 3. Find the status of earthquake on the basis of each place."
   ]
  },
  {
   "cell_type": "code",
   "execution_count": 75,
   "metadata": {},
   "outputs": [
    {
     "name": "stdout",
     "output_type": "stream",
     "text": [
      "+--------------------+----------+\n",
      "|               place|    status|\n",
      "+--------------------+----------+\n",
      "|100km S of San Cl...|[reviewed]|\n",
      "|12km WSW of Petro...|[reviewed]|\n",
      "|13km NNW of Grape...|[reviewed]|\n",
      "|13km SE of Bodfis...|[reviewed]|\n",
      "|14km ESE of Alum ...|[reviewed]|\n",
      "|14km ESE of Woffo...|[reviewed]|\n",
      "|14km SE of Baysid...|[reviewed]|\n",
      "|15km E of Seven T...|[reviewed]|\n",
      "|15km ESE of Alum ...|[reviewed]|\n",
      "|16 km ESE of Laco...|[reviewed]|\n",
      "|16km WNW of Lake ...|[reviewed]|\n",
      "|16km WSW of Weitc...|[reviewed]|\n",
      "|17 km NNW of Tayl...|[reviewed]|\n",
      "|21 km NW of Bickl...|[reviewed]|\n",
      "|21 km SSE of Golf...|[reviewed]|\n",
      "|22 km SSW of Mamm...|[reviewed]|\n",
      "|23km E of Julian, CA|[reviewed]|\n",
      "|23km NE of Therma...|[reviewed]|\n",
      "|24 km NW of Stanl...|[reviewed]|\n",
      "|25km W of Petroli...|[reviewed]|\n",
      "+--------------------+----------+\n",
      "only showing top 20 rows\n",
      "\n"
     ]
    }
   ],
   "source": [
    "status_place_df = earthquake_df.withColumn('status',F.collect_set('status').over(W.partitionBy('place'))).select('place', 'status').distinct()\n",
    "status_place_df.show()"
   ]
  }
 ],
 "metadata": {
  "kernelspec": {
   "display_name": "Python 3.8.10 64-bit",
   "language": "python",
   "name": "python3"
  },
  "language_info": {
   "codemirror_mode": {
    "name": "ipython",
    "version": 3
   },
   "file_extension": ".py",
   "mimetype": "text/x-python",
   "name": "python",
   "nbconvert_exporter": "python",
   "pygments_lexer": "ipython3",
   "version": "3.8.10"
  },
  "orig_nbformat": 4,
  "vscode": {
   "interpreter": {
    "hash": "916dbcbb3f70747c44a77c7bcd40155683ae19c65e1c03b4aa3499c5328201f1"
   }
  }
 },
 "nbformat": 4,
 "nbformat_minor": 2
}
