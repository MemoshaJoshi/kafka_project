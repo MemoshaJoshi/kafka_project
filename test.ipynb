{
 "cells": [
  {
   "cell_type": "code",
   "execution_count": 1,
   "metadata": {},
   "outputs": [],
   "source": [
    "import requests"
   ]
  },
  {
   "cell_type": "code",
   "execution_count": 4,
   "metadata": {},
   "outputs": [
    {
     "name": "stdout",
     "output_type": "stream",
     "text": [
      "https://everyearthquake.p.rapidapi.com/earthquakes?start=1&count=100&type=earthquake&latitude=33.962523&longitude=-118.3706975&radius=1000&units=miles&magnitude=3&intensity=1\n"
     ]
    }
   ],
   "source": [
    "url = \"https://everyearthquake.p.rapidapi.com/earthquakes\"\n",
    "\n",
    "querystring = {\"start\":\"1\",\"count\":\"100\",\"type\":\"earthquake\",\"latitude\":\"33.962523\",\"longitude\":\"-118.3706975\",\"radius\":\"1000\",\"units\":\"miles\",\"magnitude\":\"3\",\"intensity\":\"1\"}\n",
    "\n",
    "headers = {\n",
    "\t\"X-RapidAPI-Key\": \"81672069a7msh0b3d711859966e6p1d86e5jsn84253a0e36b9\",\n",
    "\t\"X-RapidAPI-Host\": \"everyearthquake.p.rapidapi.com\"\n",
    "}\n",
    "\n",
    "response = requests.request(\"GET\", url, headers=headers, params=querystring)\n",
    "\n",
    "# print(response.text)\n",
    "print(response.url)"
   ]
  }
 ],
 "metadata": {
  "kernelspec": {
   "display_name": "Python 3.8.10 64-bit",
   "language": "python",
   "name": "python3"
  },
  "language_info": {
   "codemirror_mode": {
    "name": "ipython",
    "version": 3
   },
   "file_extension": ".py",
   "mimetype": "text/x-python",
   "name": "python",
   "nbconvert_exporter": "python",
   "pygments_lexer": "ipython3",
   "version": "3.8.10"
  },
  "orig_nbformat": 4,
  "vscode": {
   "interpreter": {
    "hash": "916dbcbb3f70747c44a77c7bcd40155683ae19c65e1c03b4aa3499c5328201f1"
   }
  }
 },
 "nbformat": 4,
 "nbformat_minor": 2
}
